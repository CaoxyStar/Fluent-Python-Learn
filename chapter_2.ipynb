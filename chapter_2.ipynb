{
 "cells": [
  {
   "cell_type": "code",
   "execution_count": 4,
   "metadata": {},
   "outputs": [
    {
     "name": "stdout",
     "output_type": "stream",
     "text": [
      "0\n",
      "1\n",
      "2\n",
      "3\n",
      "4\n"
     ]
    }
   ],
   "source": [
    "# listcomps\n",
    "clothes = [\"%s %s\" % (color, size) for color in ('red', 'yellow', 'blue') for size in ('small', 'medium', 'large')]\n",
    "\n",
    "# genexps\n",
    "for i in (x for x in range(5)):\n",
    "    print(i)"
   ]
  },
  {
   "cell_type": "code",
   "execution_count": 8,
   "metadata": {},
   "outputs": [
    {
     "name": "stdout",
     "output_type": "stream",
     "text": [
      "Curry Golden State Warriors 30\n",
      "Durant Golden State Warriors 35\n",
      "James Los Angeles Lakers 23\n",
      "0 1 [2, 3, 4]\n"
     ]
    }
   ],
   "source": [
    "# tuple unpacking\n",
    "players = [('Curry', ('Golden State Warriors', 30)), ('Durant', ('Golden State Warriors', 35)), ('James', ('Los Angeles Lakers', 23))]\n",
    "for name, (team, age) in players:\n",
    "    print(name, team, age)\n",
    "\n",
    "a, b, *rest = range(5)\n",
    "print(a, b, rest)"
   ]
  },
  {
   "cell_type": "code",
   "execution_count": 9,
   "metadata": {},
   "outputs": [
    {
     "name": "stdout",
     "output_type": "stream",
     "text": [
      "Player(name='Curry', team='Golden State Warriors', age=30)\n",
      "Player(name='Durant', team='Golden State Warriors', age=35)\n",
      "Player(name='James', team='Los Angeles Lakers', age=23)\n"
     ]
    }
   ],
   "source": [
    "# namedtuple\n",
    "from collections import namedtuple\n",
    "Player = namedtuple('Player', 'name team age')\n",
    "for player in players:\n",
    "    name, (team, age) = player\n",
    "    print(Player(name, team, age))"
   ]
  },
  {
   "cell_type": "code",
   "execution_count": null,
   "metadata": {},
   "outputs": [],
   "source": []
  }
 ],
 "metadata": {
  "kernelspec": {
   "display_name": "base",
   "language": "python",
   "name": "python3"
  },
  "language_info": {
   "codemirror_mode": {
    "name": "ipython",
    "version": 3
   },
   "file_extension": ".py",
   "mimetype": "text/x-python",
   "name": "python",
   "nbconvert_exporter": "python",
   "pygments_lexer": "ipython3",
   "version": "3.12.4"
  },
  "orig_nbformat": 4,
  "vscode": {
   "interpreter": {
    "hash": "5179d32cf6ec497baf3f8a3ef987cc77c5d2dc691fdde20a56316522f61a7323"
   }
  }
 },
 "nbformat": 4,
 "nbformat_minor": 2
}

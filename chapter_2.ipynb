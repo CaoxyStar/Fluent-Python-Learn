{
 "cells": [
  {
   "cell_type": "code",
   "execution_count": 4,
   "metadata": {},
   "outputs": [
    {
     "name": "stdout",
     "output_type": "stream",
     "text": [
      "0\n",
      "1\n",
      "2\n",
      "3\n",
      "4\n"
     ]
    }
   ],
   "source": [
    "# listcomps\n",
    "clothes = [\"%s %s\" % (color, size) for color in ('red', 'yellow', 'blue') for size in ('small', 'medium', 'large')]\n",
    "\n",
    "# genexps\n",
    "for i in (x for x in range(5)):\n",
    "    print(i)"
   ]
  },
  {
   "cell_type": "code",
   "execution_count": 8,
   "metadata": {},
   "outputs": [
    {
     "name": "stdout",
     "output_type": "stream",
     "text": [
      "Curry Golden State Warriors 30\n",
      "Durant Golden State Warriors 35\n",
      "James Los Angeles Lakers 23\n",
      "0 1 [2, 3, 4]\n"
     ]
    }
   ],
   "source": [
    "# tuple unpacking\n",
    "players = [('Curry', ('Golden State Warriors', 30)), ('Durant', ('Golden State Warriors', 35)), ('James', ('Los Angeles Lakers', 23))]\n",
    "for name, (team, age) in players:\n",
    "    print(name, team, age)\n",
    "\n",
    "a, b, *rest = range(5)\n",
    "print(a, b, rest)"
   ]
  },
  {
   "cell_type": "code",
   "execution_count": 9,
   "metadata": {},
   "outputs": [
    {
     "name": "stdout",
     "output_type": "stream",
     "text": [
      "Player(name='Curry', team='Golden State Warriors', age=30)\n",
      "Player(name='Durant', team='Golden State Warriors', age=35)\n",
      "Player(name='James', team='Los Angeles Lakers', age=23)\n"
     ]
    }
   ],
   "source": [
    "# namedtuple\n",
    "from collections import namedtuple\n",
    "Player = namedtuple('Player', 'name team age')\n",
    "for player in players:\n",
    "    name, (team, age) = player\n",
    "    print(Player(name, team, age))"
   ]
  },
  {
   "cell_type": "code",
   "execution_count": 1,
   "metadata": {},
   "outputs": [
    {
     "name": "stdout",
     "output_type": "stream",
     "text": [
      "31 @ 14  | | | | | | | | | | | | | |31\n",
      "30 @ 13  | | | | | | | | | | | | |30\n",
      "29 @ 12  | | | | | | | | | | | |29\n",
      "23 @  9  | | | | | | | | |23\n",
      "22 @  9  | | | | | | | | |22\n",
      "10 @  5  | | | | |10\n",
      " 8 @  4  | | | |8 \n",
      " 5 @  2  | |5 \n",
      " 2 @  1  |2 \n",
      " 1 @  0 1 \n",
      " 0 @  0 0 \n"
     ]
    }
   ],
   "source": [
    "# a python module for searching and inserting lists\n",
    "\n",
    "import bisect\n",
    "\n",
    "HAYSTACK = [1, 4, 5, 6, 8, 12, 15, 20, 21, 23, 23, 26, 29, 30]\n",
    "NEEDLES = [0, 1, 2, 5, 8, 10, 22, 23, 29, 30, 31]\n",
    "\n",
    "ROW_FMT = '{0:2d} @ {1:2d} {2}{0:<2d}'\n",
    "\n",
    "\n",
    "def demo(bisect_fn):\n",
    "    for needle in reversed(NEEDLES):\n",
    "        position = bisect_fn(HAYSTACK, needle)\n",
    "        offset = position * ' |'\n",
    "        print(ROW_FMT.format(needle, position, offset))\n",
    "\n",
    "demo(bisect.bisect_left)"
   ]
  },
  {
   "cell_type": "code",
   "execution_count": 8,
   "metadata": {},
   "outputs": [
    {
     "name": "stdout",
     "output_type": "stream",
     "text": [
      "array('h', [-2, -1, 0, 1, 2])\n"
     ]
    }
   ],
   "source": [
    "# numpy and scipy are useful and powerful packages"
   ]
  }
 ],
 "metadata": {
  "kernelspec": {
   "display_name": "base",
   "language": "python",
   "name": "python3"
  },
  "language_info": {
   "codemirror_mode": {
    "name": "ipython",
    "version": 3
   },
   "file_extension": ".py",
   "mimetype": "text/x-python",
   "name": "python",
   "nbconvert_exporter": "python",
   "pygments_lexer": "ipython3",
   "version": "3.12.4"
  },
  "orig_nbformat": 4,
  "vscode": {
   "interpreter": {
    "hash": "5179d32cf6ec497baf3f8a3ef987cc77c5d2dc691fdde20a56316522f61a7323"
   }
  }
 },
 "nbformat": 4,
 "nbformat_minor": 2
}
